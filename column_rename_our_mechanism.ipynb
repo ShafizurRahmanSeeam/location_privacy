{
 "cells": [
  {
   "cell_type": "code",
   "execution_count": 2,
   "id": "e68a55d7",
   "metadata": {},
   "outputs": [
    {
     "name": "stdout",
     "output_type": "stream",
     "text": [
      "Column names have been updated in all CSV files.\n"
     ]
    }
   ],
   "source": [
    "import pandas as pd\n",
    "import os\n",
    "# Set the base directory containing your CSV files\n",
    "base_directory = '/Users/shafizurrahmanseeam/Desktop/ARR/AR_GPS_Sensor_Data/Perturbed_10/test/Our_bl_50_delta_5'\n",
    "# Specify the old and new column names\n",
    "old_column_name1 = 'reported_lat'\n",
    "old_column_name2 = 'reported_lon'\n",
    "new_column_name1 = 'Perturbed_Latitude'\n",
    "new_column_name2 = 'Perturbed_Longitude'\n",
    "# List all CSV files in the base directory\n",
    "csv_files = [f for f in os.listdir(base_directory) if f.endswith('.csv')]\n",
    "# Process each CSV file\n",
    "for file_name in csv_files:\n",
    "    # Construct the full file path\n",
    "    file_path = os.path.join(base_directory, file_name)\n",
    "    # Read the CSV file into a DataFrame\n",
    "    df = pd.read_csv(file_path)\n",
    "    # Rename the columns\n",
    "    df = df.rename(columns={old_column_name1: new_column_name1, old_column_name2: new_column_name2})\n",
    "    # Save the updated DataFrame back to CSV\n",
    "    df.to_csv(file_path, index=False)\n",
    "print(\"Column names have been updated in all CSV files.\")\n",
    "\n",
    "\n",
    "\n",
    "\n",
    "\n",
    "#/Users/shafizurrahmanseeam/Desktop/ARR/AR_GPS_Sensor_Data/Perturbed_10\n",
    "\n"
   ]
  },
  {
   "cell_type": "code",
   "execution_count": 3,
   "id": "b6e273f8",
   "metadata": {},
   "outputs": [
    {
     "data": {
      "text/plain": [
       "'/Users/shafizurrahmanseeam/Desktop/ARR/AR_GPS_Sensor_Data/Code'"
      ]
     },
     "execution_count": 3,
     "metadata": {},
     "output_type": "execute_result"
    }
   ],
   "source": [
    "pwd"
   ]
  },
  {
   "cell_type": "code",
   "execution_count": 3,
   "id": "b7a2c8c1",
   "metadata": {},
   "outputs": [
    {
     "name": "stdout",
     "output_type": "stream",
     "text": [
      "/Users/shafizurrahmanseeam/Desktop/ARR/AR_GPS_Sensor_Data\n"
     ]
    }
   ],
   "source": [
    "cd ..\n"
   ]
  },
  {
   "cell_type": "code",
   "execution_count": 4,
   "id": "cd4101e5",
   "metadata": {},
   "outputs": [
    {
     "name": "stdout",
     "output_type": "stream",
     "text": [
      "/Users/shafizurrahmanseeam/Desktop/ARR\n"
     ]
    }
   ],
   "source": [
    "cd ..\n"
   ]
  },
  {
   "cell_type": "code",
   "execution_count": 5,
   "id": "9006de3b",
   "metadata": {},
   "outputs": [
    {
     "name": "stdout",
     "output_type": "stream",
     "text": [
      "/Users/shafizurrahmanseeam/Desktop\n"
     ]
    }
   ],
   "source": [
    "cd ..\n"
   ]
  },
  {
   "cell_type": "code",
   "execution_count": 6,
   "id": "b9fddcbe",
   "metadata": {},
   "outputs": [
    {
     "name": "stdout",
     "output_type": "stream",
     "text": [
      "/Users/shafizurrahmanseeam/Desktop/T-drive\n"
     ]
    }
   ],
   "source": [
    "cd T-drive\n"
   ]
  },
  {
   "cell_type": "code",
   "execution_count": 7,
   "id": "5c0f4b30",
   "metadata": {},
   "outputs": [
    {
     "name": "stdout",
     "output_type": "stream",
     "text": [
      "/Users/shafizurrahmanseeam/Desktop/T-drive/Perturbed\n"
     ]
    }
   ],
   "source": [
    "cd Perturbed"
   ]
  },
  {
   "cell_type": "code",
   "execution_count": 8,
   "id": "6e7ceb7f",
   "metadata": {},
   "outputs": [
    {
     "name": "stdout",
     "output_type": "stream",
     "text": [
      "\u001b[34mLaplace\u001b[m\u001b[m/            \u001b[34mOur_bl_200_delta_5\u001b[m\u001b[m/ \u001b[34mOur_bl_50_delta_20\u001b[m\u001b[m/ \u001b[34mtest\u001b[m\u001b[m/\r\n",
      "\u001b[34mLaplaceDelta5\u001b[m\u001b[m/      \u001b[34mOur_bl_30_delta_5\u001b[m\u001b[m/  \u001b[34mOur_bl_50_delta_3\u001b[m\u001b[m/\r\n",
      "\u001b[34mOur_bl_100_delta_5\u001b[m\u001b[m/ \u001b[34mOur_bl_500_delta_5\u001b[m\u001b[m/ \u001b[34mOur_bl_50_delta_5\u001b[m\u001b[m/\r\n",
      "\u001b[34mOur_bl_10_delta_5\u001b[m\u001b[m/  \u001b[34mOur_bl_50_delta_10\u001b[m\u001b[m/ \u001b[34mStaircase\u001b[m\u001b[m/\r\n"
     ]
    }
   ],
   "source": [
    "ls\n"
   ]
  },
  {
   "cell_type": "code",
   "execution_count": 9,
   "id": "cfacc513",
   "metadata": {},
   "outputs": [
    {
     "name": "stdout",
     "output_type": "stream",
     "text": [
      "/Users/shafizurrahmanseeam/Desktop/T-drive/Perturbed/test\n"
     ]
    }
   ],
   "source": [
    "cd test"
   ]
  },
  {
   "cell_type": "code",
   "execution_count": 10,
   "id": "51ee84ea",
   "metadata": {},
   "outputs": [
    {
     "name": "stdout",
     "output_type": "stream",
     "text": [
      "/Users/shafizurrahmanseeam/Desktop/T-drive/Perturbed/test/Our_bl_50_delta_5\n"
     ]
    }
   ],
   "source": [
    "cd Our_bl_50_delta_5/\n"
   ]
  },
  {
   "cell_type": "code",
   "execution_count": null,
   "id": "9d6600a4",
   "metadata": {},
   "outputs": [],
   "source": []
  }
 ],
 "metadata": {
  "kernelspec": {
   "display_name": "Python 3 (ipykernel)",
   "language": "python",
   "name": "python3"
  },
  "language_info": {
   "codemirror_mode": {
    "name": "ipython",
    "version": 3
   },
   "file_extension": ".py",
   "mimetype": "text/x-python",
   "name": "python",
   "nbconvert_exporter": "python",
   "pygments_lexer": "ipython3",
   "version": "3.11.3"
  }
 },
 "nbformat": 4,
 "nbformat_minor": 5
}
