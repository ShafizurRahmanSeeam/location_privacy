{
 "cells": [
  {
   "cell_type": "code",
   "execution_count": 1,
   "id": "8f6bc89f-22e0-4ce6-aa3f-87698ffae54e",
   "metadata": {},
   "outputs": [
    {
     "name": "stdout",
     "output_type": "stream",
     "text": [
      "Merged CSV file saved to C:\\Users\\ss6365\\Desktop\\location_privacy_final\\geolife\\data\\merged_all_utility_subset.csv\n"
     ]
    }
   ],
   "source": [
    "import os\n",
    "import pandas as pd\n",
    "\n",
    "\n",
    "# Input directory containing CSV files\n",
    "input_directory = 'C:\\\\Users\\\\ss6365\\\\Desktop\\\\location_privacy_final\\\\geolife\\\\data\\\\utility'\n",
    "\n",
    "# Output directory where the merged CSV file will be saved\n",
    "output_directory = 'C:\\\\Users\\\\ss6365\\\\Desktop\\\\location_privacy_final\\\\geolife\\\\data'\n",
    "\n",
    "\n",
    "\n",
    "# # List of important columns to keep\n",
    "important_columns = ['identifier', 'longitude', 'latitude']  # Replace with your column names\n",
    "\n",
    "# # Create a list to store dataframes from individual CSV files\n",
    "dataframes = []\n",
    "\n",
    "# # Iterate through CSV files in the input directory\n",
    "for filename in os.listdir(input_directory):\n",
    "    if filename.endswith('.csv'):\n",
    "        file_path = os.path.join(input_directory, filename)\n",
    "        df = pd.read_csv(file_path, usecols=important_columns)\n",
    "        dataframes.append(df)\n",
    "\n",
    "# # Concatenate dataframes vertically (along rows)\n",
    "merged_df = pd.concat(dataframes, ignore_index=True)\n",
    "\n",
    "# # Output file path for the merged CSV file\n",
    "output_file_path = os.path.join(output_directory, 'merged_all_utility_subset.csv')\n",
    "\n",
    "# # Save the merged dataframe to a CSV file\n",
    "merged_df.to_csv(output_file_path, index=False)\n",
    "\n",
    "print(f\"Merged CSV file saved to {output_file_path}\")"
   ]
  },
  {
   "cell_type": "code",
   "execution_count": 36,
   "id": "7c636cc2-ba5c-4a30-bd80-06ea9ebf382e",
   "metadata": {},
   "outputs": [
    {
     "data": {
      "text/html": [
       "<div>\n",
       "<style scoped>\n",
       "    .dataframe tbody tr th:only-of-type {\n",
       "        vertical-align: middle;\n",
       "    }\n",
       "\n",
       "    .dataframe tbody tr th {\n",
       "        vertical-align: top;\n",
       "    }\n",
       "\n",
       "    .dataframe thead th {\n",
       "        text-align: right;\n",
       "    }\n",
       "</style>\n",
       "<table border=\"1\" class=\"dataframe\">\n",
       "  <thead>\n",
       "    <tr style=\"text-align: right;\">\n",
       "      <th></th>\n",
       "      <th>latitude</th>\n",
       "      <th>longitude</th>\n",
       "      <th>identifier</th>\n",
       "    </tr>\n",
       "  </thead>\n",
       "  <tbody>\n",
       "    <tr>\n",
       "      <th>0</th>\n",
       "      <td>39.991650</td>\n",
       "      <td>116.327567</td>\n",
       "      <td>1</td>\n",
       "    </tr>\n",
       "    <tr>\n",
       "      <th>1</th>\n",
       "      <td>39.992233</td>\n",
       "      <td>116.326083</td>\n",
       "      <td>1</td>\n",
       "    </tr>\n",
       "    <tr>\n",
       "      <th>2</th>\n",
       "      <td>39.992317</td>\n",
       "      <td>116.325750</td>\n",
       "      <td>1</td>\n",
       "    </tr>\n",
       "    <tr>\n",
       "      <th>3</th>\n",
       "      <td>39.992067</td>\n",
       "      <td>116.325667</td>\n",
       "      <td>1</td>\n",
       "    </tr>\n",
       "    <tr>\n",
       "      <th>4</th>\n",
       "      <td>39.991850</td>\n",
       "      <td>116.325917</td>\n",
       "      <td>1</td>\n",
       "    </tr>\n",
       "    <tr>\n",
       "      <th>...</th>\n",
       "      <td>...</td>\n",
       "      <td>...</td>\n",
       "      <td>...</td>\n",
       "    </tr>\n",
       "    <tr>\n",
       "      <th>1193227</th>\n",
       "      <td>39.984544</td>\n",
       "      <td>116.318676</td>\n",
       "      <td>1524</td>\n",
       "    </tr>\n",
       "    <tr>\n",
       "      <th>1193228</th>\n",
       "      <td>39.984533</td>\n",
       "      <td>116.317468</td>\n",
       "      <td>1524</td>\n",
       "    </tr>\n",
       "    <tr>\n",
       "      <th>1193229</th>\n",
       "      <td>39.984492</td>\n",
       "      <td>116.316219</td>\n",
       "      <td>1524</td>\n",
       "    </tr>\n",
       "    <tr>\n",
       "      <th>1193230</th>\n",
       "      <td>39.984461</td>\n",
       "      <td>116.314947</td>\n",
       "      <td>1524</td>\n",
       "    </tr>\n",
       "    <tr>\n",
       "      <th>1193231</th>\n",
       "      <td>39.984420</td>\n",
       "      <td>116.313758</td>\n",
       "      <td>1524</td>\n",
       "    </tr>\n",
       "  </tbody>\n",
       "</table>\n",
       "<p>205862 rows × 3 columns</p>\n",
       "</div>"
      ],
      "text/plain": [
       "          latitude   longitude  identifier\n",
       "0        39.991650  116.327567           1\n",
       "1        39.992233  116.326083           1\n",
       "2        39.992317  116.325750           1\n",
       "3        39.992067  116.325667           1\n",
       "4        39.991850  116.325917           1\n",
       "...            ...         ...         ...\n",
       "1193227  39.984544  116.318676        1524\n",
       "1193228  39.984533  116.317468        1524\n",
       "1193229  39.984492  116.316219        1524\n",
       "1193230  39.984461  116.314947        1524\n",
       "1193231  39.984420  116.313758        1524\n",
       "\n",
       "[205862 rows x 3 columns]"
      ]
     },
     "execution_count": 36,
     "metadata": {},
     "output_type": "execute_result"
    }
   ],
   "source": [
    "import numpy as np\n",
    "\n",
    "\n",
    "df = pd.read_csv(r'C:\\Users\\ss6365\\Desktop\\location_privacy_final\\geolife\\data\\merged_all_utility_subset.csv')\n",
    "\n",
    "def haversine(lat1, lon1, lat2, lon2):\n",
    "    # Radius of the Earth in km\n",
    "    R = 6371.0\n",
    "    # Convert coordinates from degrees to radians\n",
    "    lat1, lon1, lat2, lon2 = map(np.radians, [lat1, lon1, lat2, lon2])\n",
    "    # Haversine formula\n",
    "    dlat = lat2 - lat1\n",
    "    dlon = lon2 - lon1\n",
    "    a = np.sin(dlat/2)**2 + np.cos(lat1) * np.cos(lat2) * np.sin(dlon/2)**2\n",
    "    c = 2 * np.arctan2(np.sqrt(a), np.sqrt(1 - a))\n",
    "    distance = R * c\n",
    "    return distance\n",
    "\n",
    "def find_square_boundaries(lat, lon, distance_km):\n",
    "    # Approximate conversions\n",
    "    delta_lat = distance_km / 111  # 111 km per degree of latitude\n",
    "    delta_lon = distance_km / (111 * np.cos(np.radians(lat)))  # Adjust for longitude\n",
    "    return lat - delta_lat, lat + delta_lat, lon - delta_lon, lon + delta_lon\n",
    "\n",
    "\n",
    "# Calculate the median (or mean) latitude and longitude\n",
    "central_lat = df['latitude'].median()\n",
    "central_lon = df['longitude'].median()\n",
    "\n",
    "\n",
    "# Define the square region boundaries\n",
    "lat_min, lat_max, lon_min, lon_max = find_square_boundaries(central_lat, central_lon, 2)\n",
    "\n",
    "# Filter the DataFrame for points within the 1 km square\n",
    "df_limit = df[(df['latitude'] >= lat_min) & (df['latitude'] <= lat_max) &\n",
    "               (df['longitude'] >= lon_min) & (df['longitude'] <= lon_max)]\n",
    "\n",
    "df_limit"
   ]
  },
  {
   "cell_type": "code",
   "execution_count": 37,
   "id": "408ebd5b-34d9-4d2d-a746-1342bccfc2cc",
   "metadata": {},
   "outputs": [
    {
     "data": {
      "text/plain": [
       "4.007965896924276"
      ]
     },
     "execution_count": 37,
     "metadata": {},
     "output_type": "execute_result"
    }
   ],
   "source": [
    "# Horizontal_check = haversine(df_limit['latitude'].min(), df_limit['longitude'].min(), df_limit['latitude'].min(), df_limit['longitude'].max())\n",
    "# Horizontal_check\n",
    "\n",
    "# veritcal_check = haversine(df_limit['latitude'].min(), df_limit['longitude'].min(), df_limit['latitude'].max(), df_limit['longitude'].min())\n",
    "# veritcal_check"
   ]
  },
  {
   "cell_type": "code",
   "execution_count": 38,
   "id": "97e972b7-60f4-4960-b089-c1de83696fd6",
   "metadata": {},
   "outputs": [
    {
     "data": {
      "text/plain": [
       "4.006653433305232"
      ]
     },
     "execution_count": 38,
     "metadata": {},
     "output_type": "execute_result"
    }
   ],
   "source": [
    "veritcal_check = haversine(df_limit['latitude'].min(), df_limit['longitude'].min(), df_limit['latitude'].max(), df_limit['longitude'].min())\n",
    "veritcal_check"
   ]
  },
  {
   "cell_type": "code",
   "execution_count": 40,
   "id": "0dcbbbbb-0c24-46f4-b321-22f19264fef1",
   "metadata": {},
   "outputs": [
    {
     "name": "stdout",
     "output_type": "stream",
     "text": [
      "Processing complete.\n"
     ]
    }
   ],
   "source": [
    "import glob\n",
    "import os\n",
    "import pandas as pd\n",
    "\n",
    "# Input and output directories\n",
    "input_directory = r'C:\\Users\\ss6365\\Desktop\\location_privacy_final\\geolife\\data\\utility'\n",
    "output_directory = r'C:\\Users\\ss6365\\Desktop\\location_privacy_final\\geolife\\data\\security'\n",
    "\n",
    "\n",
    "# Calculate the boundaries based on the current file\n",
    "lat_min = df_limit['latitude'].min()\n",
    "lat_max = df_limit['latitude'].max()\n",
    "lon_min = df_limit['longitude'].min()\n",
    "lon_max = df_limit['longitude'].max()\n",
    "\n",
    "\n",
    "# Iterate through CSV files in the input directory\n",
    "for csv_file in glob.glob(os.path.join(input_directory, '*.csv')):\n",
    "    # Load the CSV file\n",
    "    df = pd.read_csv(csv_file)\n",
    "\n",
    "\n",
    "\n",
    "    # Distance parameter (can be adjusted as needed)\n",
    "    distance_km = 2\n",
    "\n",
    "    # Define the square region boundaries and filter the DataFrame\n",
    "    df_square = df[(df['latitude'] >= lat_min) & (df['latitude'] <= lat_max) &\n",
    "                   (df['longitude'] >= lon_min) & (df['longitude'] <= lon_max)]\n",
    "\n",
    "    # Check if the filtered DataFrame is empty (no data within boundaries)\n",
    "    if df_square.empty:\n",
    "        continue  # Skip saving if no data matches the criteria\n",
    "\n",
    "    # Extract the base filename without extension\n",
    "    base_filename = os.path.splitext(os.path.basename(csv_file))[0]\n",
    "    \n",
    "    # Create the new filename with distance_km\n",
    "    new_filename = f\"{base_filename}_{distance_km}km.csv\"\n",
    "    \n",
    "    # Save the filtered DataFrame to the output directory with the new filename\n",
    "    output_path = os.path.join(output_directory, new_filename)\n",
    "    df_square.to_csv(output_path, index=False)\n",
    "\n",
    "print(\"Processing complete.\")"
   ]
  },
  {
   "cell_type": "code",
   "execution_count": null,
   "id": "2548768d-9042-48a6-83ff-c019f92f6a31",
   "metadata": {},
   "outputs": [],
   "source": []
  }
 ],
 "metadata": {
  "kernelspec": {
   "display_name": "Python 3 (ipykernel)",
   "language": "python",
   "name": "python3"
  },
  "language_info": {
   "codemirror_mode": {
    "name": "ipython",
    "version": 3
   },
   "file_extension": ".py",
   "mimetype": "text/x-python",
   "name": "python",
   "nbconvert_exporter": "python",
   "pygments_lexer": "ipython3",
   "version": "3.10.13"
  }
 },
 "nbformat": 4,
 "nbformat_minor": 5
}
