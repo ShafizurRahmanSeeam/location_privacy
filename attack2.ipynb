{
 "cells": [
  {
   "cell_type": "code",
   "execution_count": 1,
   "id": "773c15eb-c1cc-4869-8665-6bf171f8c511",
   "metadata": {},
   "outputs": [],
   "source": [
    "import pandas as pd\n",
    "import numpy as np\n",
    "import os"
   ]
  },
  {
   "cell_type": "code",
   "execution_count": 3,
   "id": "866ec4e1-5969-4609-ac44-9f47fda6fa17",
   "metadata": {},
   "outputs": [],
   "source": [
    "def lat_lon_to_grid_pos(lat, lon, min_lat, max_lat, min_lon, max_lon, grid_size):\n",
    "    lat_step = (max_lat - min_lat) / grid_size\n",
    "    lon_step = (max_lon - min_lon) / grid_size\n",
    "    \n",
    "    # Calculate grid positions, clamping to the grid size - 1\n",
    "    lat_pos = min(int((lat - min_lat) / lat_step), grid_size - 1)\n",
    "    lon_pos = min(int((lon - min_lon) / lon_step), grid_size - 1)\n",
    "    \n",
    "    # Convert 2D grid position to a single integer\n",
    "    grid_pos = lat_pos * grid_size + lon_pos\n",
    "    return grid_pos\n"
   ]
  },
  {
   "cell_type": "code",
   "execution_count": 4,
   "id": "9b072281-8084-4425-b1e7-e2492ac30119",
   "metadata": {},
   "outputs": [],
   "source": [
    "\n",
    "def encode_locations(df, num_lat_bins, num_lon_bins):\n",
    "    \"\"\"\n",
    "    Encode latitude and longitude into a fixed-size grid and calculate the average\n",
    "    latitude and longitude for each grid cell.\n",
    "    \"\"\"\n",
    "    lat_min, lat_max = df['latitude'].min(), df['latitude'].max()\n",
    "    lon_min, lon_max = df['longitude'].min(), df['longitude'].max()\n",
    "\n",
    "    lat_bins = np.linspace(lat_min, lat_max, num_lat_bins + 1)\n",
    "    lon_bins = np.linspace(lon_min, lon_max, num_lon_bins + 1)\n",
    "\n",
    "    df['lat_bin'] = pd.cut(df['latitude'], bins=lat_bins, labels=False, include_lowest=True)\n",
    "    df['lon_bin'] = pd.cut(df['longitude'], bins=lon_bins, labels=False, include_lowest=True)\n",
    "    \n",
    "    df['location_id'] = df['lat_bin'] * num_lon_bins + df['lon_bin'] + 1\n",
    "\n",
    "    return df"
   ]
  },
  {
   "cell_type": "code",
   "execution_count": 5,
   "id": "86fbe9b4-32b4-4d4f-a91c-a7018b172e7f",
   "metadata": {},
   "outputs": [
    {
     "data": {
      "text/html": [
       "<div>\n",
       "<style scoped>\n",
       "    .dataframe tbody tr th:only-of-type {\n",
       "        vertical-align: middle;\n",
       "    }\n",
       "\n",
       "    .dataframe tbody tr th {\n",
       "        vertical-align: top;\n",
       "    }\n",
       "\n",
       "    .dataframe thead th {\n",
       "        text-align: right;\n",
       "    }\n",
       "</style>\n",
       "<table border=\"1\" class=\"dataframe\">\n",
       "  <thead>\n",
       "    <tr style=\"text-align: right;\">\n",
       "      <th></th>\n",
       "      <th>longitude</th>\n",
       "      <th>latitude</th>\n",
       "      <th>identifier</th>\n",
       "    </tr>\n",
       "  </thead>\n",
       "  <tbody>\n",
       "    <tr>\n",
       "      <th>0</th>\n",
       "      <td>-77.680333</td>\n",
       "      <td>43.083838</td>\n",
       "      <td>1</td>\n",
       "    </tr>\n",
       "    <tr>\n",
       "      <th>1</th>\n",
       "      <td>-77.680991</td>\n",
       "      <td>43.083803</td>\n",
       "      <td>1</td>\n",
       "    </tr>\n",
       "    <tr>\n",
       "      <th>2</th>\n",
       "      <td>-77.681017</td>\n",
       "      <td>43.083802</td>\n",
       "      <td>1</td>\n",
       "    </tr>\n",
       "    <tr>\n",
       "      <th>3</th>\n",
       "      <td>-77.681042</td>\n",
       "      <td>43.083802</td>\n",
       "      <td>1</td>\n",
       "    </tr>\n",
       "    <tr>\n",
       "      <th>4</th>\n",
       "      <td>-77.681090</td>\n",
       "      <td>43.083802</td>\n",
       "      <td>1</td>\n",
       "    </tr>\n",
       "    <tr>\n",
       "      <th>...</th>\n",
       "      <td>...</td>\n",
       "      <td>...</td>\n",
       "      <td>...</td>\n",
       "    </tr>\n",
       "    <tr>\n",
       "      <th>55420</th>\n",
       "      <td>-77.680445</td>\n",
       "      <td>43.083879</td>\n",
       "      <td>46</td>\n",
       "    </tr>\n",
       "    <tr>\n",
       "      <th>55421</th>\n",
       "      <td>-77.680442</td>\n",
       "      <td>43.083868</td>\n",
       "      <td>46</td>\n",
       "    </tr>\n",
       "    <tr>\n",
       "      <th>55422</th>\n",
       "      <td>-77.680441</td>\n",
       "      <td>43.083863</td>\n",
       "      <td>46</td>\n",
       "    </tr>\n",
       "    <tr>\n",
       "      <th>55423</th>\n",
       "      <td>-77.680442</td>\n",
       "      <td>43.083860</td>\n",
       "      <td>46</td>\n",
       "    </tr>\n",
       "    <tr>\n",
       "      <th>55424</th>\n",
       "      <td>-77.680442</td>\n",
       "      <td>43.083850</td>\n",
       "      <td>46</td>\n",
       "    </tr>\n",
       "  </tbody>\n",
       "</table>\n",
       "<p>55425 rows × 3 columns</p>\n",
       "</div>"
      ],
      "text/plain": [
       "       longitude   latitude  identifier\n",
       "0     -77.680333  43.083838           1\n",
       "1     -77.680991  43.083803           1\n",
       "2     -77.681017  43.083802           1\n",
       "3     -77.681042  43.083802           1\n",
       "4     -77.681090  43.083802           1\n",
       "...          ...        ...         ...\n",
       "55420 -77.680445  43.083879          46\n",
       "55421 -77.680442  43.083868          46\n",
       "55422 -77.680441  43.083863          46\n",
       "55423 -77.680442  43.083860          46\n",
       "55424 -77.680442  43.083850          46\n",
       "\n",
       "[55425 rows x 3 columns]"
      ]
     },
     "execution_count": 5,
     "metadata": {},
     "output_type": "execute_result"
    }
   ],
   "source": [
    "df = pd.read_csv(r'C:\\Users\\ss6365\\Desktop\\location_privacy_final\\collected\\data\\merged_all_security_subset_3km.csv')\n",
    "df"
   ]
  },
  {
   "cell_type": "code",
   "execution_count": 6,
   "id": "f2f5b772-c7c9-4aac-8329-47be97754d0d",
   "metadata": {},
   "outputs": [],
   "source": [
    "lat_min, lat_max = df['latitude'].min(), df['latitude'].max()\n",
    ", lon_max = df['longitude'].min(), df['longitude'].max()"
   ]
  },
  {
   "cell_type": "code",
   "execution_count": 7,
   "id": "b4b10d02-9d2c-4251-b8fb-2e4223ddfba5",
   "metadata": {},
   "outputs": [
    {
     "data": {
      "text/plain": [
       "43.0661955"
      ]
     },
     "execution_count": 7,
     "metadata": {},
     "output_type": "execute_result"
    }
   ],
   "source": [
    "lat_min"
   ]
  },
  {
   "cell_type": "code",
   "execution_count": 13,
   "id": "da84d25a-6ad6-4bb1-b95c-800ae1a74efe",
   "metadata": {},
   "outputs": [],
   "source": [
    "\n",
    "def convert_to_location_id_and_save(base_directory, grid_size, min_lat, max_lat, min_lon, max_lon):\n",
    "    # Walk through the directory tree\n",
    "    for dirpath, dirnames, filenames in os.walk(base_directory):\n",
    "        for file in filenames:\n",
    "            if file.endswith('.csv'):  # Check if the file is a CSV\n",
    "                file_path = os.path.join(dirpath, file)\n",
    "                df = pd.read_csv(file_path)\n",
    "                # Apply the conversion\n",
    "                df['location_id'] = df.apply(lambda row: lat_lon_to_grid_pos(row['latitude'], row['longitude'],\n",
    "                                                                              min_lat, max_lat, min_lon, max_lon, grid_size), axis=1)\n",
    "                # Save the updated DataFrame back to CSV without changing its name\n",
    "                df.to_csv(file_path, index=False)\n",
    "\n",
    "# Example usage parameters (you need to define lat_range and lon_range)\n",
    "grid_size = 500\n",
    "#base_directory = 'C:\\\\Users\\\\ss6365\\\\Desktop\\\\11111\\\\Synthetic\\\\Perturbed_Averaged\\\\Laplace'\n",
    "\n",
    "base_directory = r'C:\\Users\\ss6365\\Desktop\\location_privacy_final\\test\\data\\security'\n",
    "\n",
    "convert_to_location_id_and_save(base_directory, grid_size, lat_min, lat_max, lon_min, lon_max)"
   ]
  },
  {
   "cell_type": "code",
   "execution_count": 14,
   "id": "0291bd96-46cb-4657-aa66-639338c9e7c9",
   "metadata": {},
   "outputs": [
    {
     "data": {
      "text/plain": [
       "['Hu_Samsung_S22_csv-1706551395849_3km_part1.csv',\n",
       " 'Hu_Samsung_S22_csv-1706551395849_3km_part10.csv',\n",
       " 'Hu_Samsung_S22_csv-1706551395849_3km_part11.csv',\n",
       " 'Hu_Samsung_S22_csv-1706551395849_3km_part12.csv',\n",
       " 'Hu_Samsung_S22_csv-1706551395849_3km_part13.csv',\n",
       " 'Hu_Samsung_S22_csv-1706551395849_3km_part14.csv',\n",
       " 'Hu_Samsung_S22_csv-1706551395849_3km_part15.csv',\n",
       " 'Hu_Samsung_S22_csv-1706551395849_3km_part2.csv',\n",
       " 'Hu_Samsung_S22_csv-1706551395849_3km_part3.csv',\n",
       " 'Hu_Samsung_S22_csv-1706551395849_3km_part4.csv',\n",
       " 'Hu_Samsung_S22_csv-1706551395849_3km_part5.csv',\n",
       " 'Hu_Samsung_S22_csv-1706551395849_3km_part6.csv',\n",
       " 'Hu_Samsung_S22_csv-1706551395849_3km_part7.csv',\n",
       " 'Hu_Samsung_S22_csv-1706551395849_3km_part8.csv',\n",
       " 'Hu_Samsung_S22_csv-1706551395849_3km_part9.csv']"
      ]
     },
     "execution_count": 14,
     "metadata": {},
     "output_type": "execute_result"
    }
   ],
   "source": [
    "def transform_csv_files(directory):\n",
    "    # Iterate through each CSV file in the directory\n",
    "    for csv_file in os.listdir(directory):\n",
    "        file_path = os.path.join(directory, csv_file)\n",
    "        df = pd.read_csv(file_path)\n",
    "\n",
    "        # Assuming the DataFrame structure matches the uploaded file\n",
    "        # Transform the DataFrame to create a new structure\n",
    "        transformed_data = {\n",
    "            'Latitude_A': df.loc[0, 'latitude'],\n",
    "            'Longitude_A': df.loc[0, 'longitude'],\n",
    "            'Latitude_B': df.loc[1, 'latitude'],\n",
    "            'Longitude_B': df.loc[1, 'longitude'],\n",
    "            #'Perturbed_Latitude_A': df.loc[0, 'reported_lat'],\n",
    "            #'Perturbed_Longitude_A': df.loc[0, 'reported_lon'],\n",
    "            #'Perturbed_Latitude_B': df.loc[1, 'reported_lat'],\n",
    "            #'Perturbed_Longitude_B': df.loc[1, 'reported_lon'],\n",
    "            'Location_ID_A': df.loc[0, 'location_id'],\n",
    "            'Location_ID_B': df.loc[1, 'location_id'],\n",
    "            'Identifier': df.loc[0, 'identifier'], \n",
    "            #'Perturbed_ID_A':df.loc[0, 'P_Location_ID'],\n",
    "            #'Perturbed_ID_B':df.loc[1, 'P_Location_ID'],# Assuming the same identifier for both points\n",
    "        }\n",
    "\n",
    "        # Create a DataFrame for the transformed data\n",
    "        transformed_df = pd.DataFrame([transformed_data])\n",
    "\n",
    "        # Save the transformed DataFrame to a new CSV file\n",
    "        transformed_file_path = os.path.join(directory, f\"{csv_file}\")\n",
    "        transformed_df.to_csv(transformed_file_path, index=False)\n",
    "\n",
    "# The directory where the uploaded file is stored\n",
    "directory = r\"C:\\Users\\ss6365\\Desktop\\location_privacy_final\\test\\data\\security\"\n",
    "\n",
    "# Apply the transformation to all CSV files in the directory\n",
    "transform_csv_files(directory)\n",
    "\n",
    "# To verify, list the files in the directory after transformation\n",
    "os.listdir(directory)"
   ]
  },
  {
   "cell_type": "code",
   "execution_count": null,
   "id": "7a1c4f60-25c1-4323-84ad-b5967b3c383e",
   "metadata": {},
   "outputs": [],
   "source": []
  }
 ],
 "metadata": {
  "kernelspec": {
   "display_name": "Python 3 (ipykernel)",
   "language": "python",
   "name": "python3"
  },
  "language_info": {
   "codemirror_mode": {
    "name": "ipython",
    "version": 3
   },
   "file_extension": ".py",
   "mimetype": "text/x-python",
   "name": "python",
   "nbconvert_exporter": "python",
   "pygments_lexer": "ipython3",
   "version": "3.10.13"
  }
 },
 "nbformat": 4,
 "nbformat_minor": 5
}
