{
 "cells": [
  {
   "cell_type": "code",
   "execution_count": 3,
   "id": "be2df71d-4f1a-4b05-ab81-bb8a49f05715",
   "metadata": {},
   "outputs": [],
   "source": [
    "import numpy as np\n",
    "import pandas as pd \n",
    "\n",
    "import os\n",
    "import glob\n",
    "import pandas as pd\n",
    "import numpy as np\n",
    "\n",
    "\n",
    "import matplotlib.pyplot as plt\n",
    "import numpy as np\n"
   ]
  },
  {
   "cell_type": "code",
   "execution_count": null,
   "id": "80503d84-f649-4048-83f3-811fb8f97b31",
   "metadata": {},
   "outputs": [],
   "source": [
    "df_laplace_ln_300_collected = pd.read_csv(r'C:\\Users\\ss6365\\Desktop\\location_privacy_final\\collected\\fbleau\\fbleau_results_laplace_collected_ln_300.csv')\n",
    "df_staircase_ln_300_collected = pd.read_csv(r'C:\\Users\\ss6365\\Desktop\\location_privacy_final\\collected\\fbleau\\fbleau_results_staircase_collected_ln_300.csv')\n",
    "df_laplace_delta_ln_300_collected = pd.read_csv(r'C:\\Users\\ss6365\\Desktop\\location_privacy_final\\collected\\fbleau\\fbleau_results_laplace_delta_5_collected_ln_300.csv')\n",
    "df_our_ln_300_collected = pd.read_csv(r'C:\\Users\\ss6365\\Desktop\\location_privacy_final\\collected\\fbleau\\fbleau_results_our_bl_50_delta_5_collected_ln_300.csv')\n",
    "\n",
    "df_laplace_log_300_collected = pd.read_csv(r'C:\\Users\\ss6365\\Desktop\\location_privacy_final\\collected\\fbleau\\fbleau_results_laplace_collected_log10_300.csv')\n",
    "df_staircase_log_300_collected = pd.read_csv(r'C:\\Users\\ss6365\\Desktop\\location_privacy_final\\collected\\fbleau\\fbleau_results_staircase_collected_log10_300.csv')\n",
    "df_laplace_delta_log_300_collected = pd.read_csv(r'C:\\Users\\ss6365\\Desktop\\location_privacy_final\\collected\\fbleau\\fbleau_results_laplace_delta_5_collected_log10_300.csv')\n",
    "df_our_log_300_collected = pd.read_csv(r'C:\\Users\\ss6365\\Desktop\\location_privacy_final\\collected\\fbleau\\fbleau_results_our_bl_50_delta_5_collected_log10_300.csv')\n",
    "\n",
    "df_laplace_ln_100_collected = pd.read_csv(r'C:\\Users\\ss6365\\Desktop\\location_privacy_final\\collected\\fbleau\\fbleau_results_laplace_collected_ln_100.csv')\n",
    "df_staircase_ln_100_collected = pd.read_csv(r'C:\\Users\\ss6365\\Desktop\\location_privacy_final\\collected\\fbleau\\fbleau_results_staircase_collected_ln_100.csv')\n",
    "df_laplace_delta_ln_100_collected = pd.read_csv(r'C:\\Users\\ss6365\\Desktop\\location_privacy_final\\collected\\fbleau\\fbleau_results_laplace_delta_5_collected_ln_100.csv')\n",
    "df_our_ln_100_collected = pd.read_csv(r'C:\\Users\\ss6365\\Desktop\\location_privacy_final\\collected\\fbleau\\fbleau_results_our_bl_50_delta_5_collected_ln_100.csv')\n",
    "\n",
    "df_laplace_log_100_collected = pd.read_csv(r'C:\\Users\\ss6365\\Desktop\\location_privacy_final\\collected\\fbleau\\fbleau_results_laplace_collected_log10_100.csv')\n",
    "df_staircase_log_100_collected = pd.read_csv(r'C:\\Users\\ss6365\\Desktop\\location_privacy_final\\collected\\fbleau\\fbleau_results_staircase_collected_log10_100.csv')\n",
    "df_laplace_delta_log_100_collected = pd.read_csv(r'C:\\Users\\ss6365\\Desktop\\location_privacy_final\\collected\\fbleau\\fbleau_results_laplace_delta_5_collected_log10_100.csv')\n",
    "df_our_log_100_collected = pd.read_csv(r'C:\\Users\\ss6365\\Desktop\\location_privacy_final\\collected\\fbleau\\fbleau_results_our_bl_50_delta_5_collected_log10_100.csv')\n",
    "\n",
    "\n",
    "df_laplace_ln_200_collected = pd.read_csv(r'C:\\Users\\ss6365\\Desktop\\location_privacy_final\\collected\\fbleau\\fbleau_results_laplace_collected_ln_200.csv')\n",
    "df_staircase_ln_200_collected = pd.read_csv(r'C:\\Users\\ss6365\\Desktop\\location_privacy_final\\collected\\fbleau\\fbleau_results_staircase_collected_ln_200.csv')\n",
    "df_laplace_delta_ln_200_collected = pd.read_csv(r'C:\\Users\\ss6365\\Desktop\\location_privacy_final\\collected\\fbleau\\fbleau_results_laplace_delta_5_collected_ln_200.csv')\n",
    "df_our_ln_200_collected = pd.read_csv(r'C:\\Users\\ss6365\\Desktop\\location_privacy_final\\collected\\fbleau\\fbleau_results_our_bl_50_delta_5_collected_ln_200.csv')\n",
    "\n",
    "df_laplace_log_200_collected = pd.read_csv(r'C:\\Users\\ss6365\\Desktop\\location_privacy_final\\collected\\fbleau\\fbleau_results_laplace_collected_log10_200.csv')\n",
    "df_staircase_log_200_collected = pd.read_csv(r'C:\\Users\\ss6365\\Desktop\\location_privacy_final\\collected\\fbleau\\fbleau_results_staircase_collected_log10_200.csv')\n",
    "df_laplace_delta_log_200_collected = pd.read_csv(r'C:\\Users\\ss6365\\Desktop\\location_privacy_final\\collected\\fbleau\\fbleau_results_laplace_delta_5_collected_log10_200.csv')\n",
    "df_our_log_200_collected = pd.read_csv(r'C:\\Users\\ss6365\\Desktop\\location_privacy_final\\collected\\fbleau\\fbleau_results_our_bl_50_delta_5_collected_log10_200.csv')\n",
    "\n"
   ]
  },
  {
   "cell_type": "code",
   "execution_count": null,
   "id": "f18db716-6c8e-47aa-84e3-1e3bd76bdcab",
   "metadata": {},
   "outputs": [],
   "source": [
    "\n",
    "# Example data (assuming you have these data frames ready)\n",
    "epsilon_values = [0.1, 0.2, 0.5, 1, 2, 3, 4, 5]\n",
    "\n",
    "# Define lines with linestyle added\n",
    "line1 = {'x': epsilon_values, 'y': df_laplace_ln_300_collected['Bayes security measure'], 'label': r'PLM', 'color': '#1F77B4', 'marker': 'D', 'linewidth': 2, 'markersize': 12, 'linestyle': '-'}\n",
    "line2 = {'x': epsilon_values, 'y': df_staircase_ln_300_collected['Bayes security measure'], 'label': 'PSM', 'color': '#FF7F0E', 'marker': 'o', 'linewidth': 2, 'markersize': 12, 'linestyle': '-'}\n",
    "line3 = {'x': epsilon_values, 'y': df_our_ln_300_collected['Bayes security measure'], 'label': 'PSM-I$(r_b=50, \\delta=5)$', 'color': '#2CA02C', 'marker': 'X', 'linewidth': 2, 'markersize': 12, 'linestyle': '-'}\n",
    "line4 = {'x': epsilon_values, 'y': df_laplace_delta_ln_300_collected['Bayes security measure'], 'label': r'PLM$_{\\delta}\\,(\\delta=5)$', 'color': '#DC143C', 'marker': '*', 'linewidth': 2, 'markersize': 12, 'linestyle': '-'}\n",
    "\n",
    "plt.figure(figsize=(10, 6))\n",
    "\n",
    "# Plot each line with improved settings\n",
    "for line in [line1, line2, line3, line4]:\n",
    "    plt.plot(line['x'], line['y'], label=line['label'], color=line['color'], marker=line['marker'], linestyle=line['linestyle'], linewidth=line['linewidth'], markersize=line['markersize'])\n",
    "\n",
    "# Labels for axes\n",
    "plt.xlabel('$\\epsilon$', fontsize=36)\n",
    "plt.ylabel('Bayes Risk', fontsize=28)\n",
    "\n",
    "# Log scale for x-axis and setting specific ticks and labels\n",
    "plt.xscale('log')\n",
    "plt.xticks(epsilon_values, labels=[str(val) for val in epsilon_values])\n",
    "plt.tick_params(axis='both', which='major', labelsize=28)\n",
    "\n",
    "# Adding a grid, legend, and ensuring layout is tight for best appearance\n",
    "#plt.grid(True)\n",
    "plt.legend(fontsize=28, frameon=True, loc='best')\n",
    "plt.tight_layout()\n",
    "plt.title('Collected 300 (ln)')\n",
    "# Uncomment the following lines to save the plot if needed\n",
    "# plt.savefig('/path/to/your/directory/filename.png', dpi=300, bbox_inches='tight')\n",
    "# plt.savefig('/path/to/your/directory/filename.svg', format='svg', bbox_inches='tight')\n",
    "\n",
    "# Display the plot\n",
    "plt.show()\n"
   ]
  },
  {
   "cell_type": "code",
   "execution_count": null,
   "id": "988dc255-f645-45af-91ba-d7a5433cf521",
   "metadata": {},
   "outputs": [],
   "source": [
    "\n",
    "# Example data (assuming you have these data frames ready)\n",
    "epsilon_values = [0.1, 0.2, 0.5, 1, 2, 3, 4, 5]\n",
    "\n",
    "# Define lines with linestyle added\n",
    "line1 = {'x': epsilon_values, 'y': df_laplace_log_300_collected['Bayes security measure'], 'label': r'PLM', 'color': '#1F77B4', 'marker': 'D', 'linewidth': 2, 'markersize': 12, 'linestyle': '-'}\n",
    "line2 = {'x': epsilon_values, 'y': df_staircase_log_300_collected['Bayes security measure'], 'label': 'PSM', 'color': '#FF7F0E', 'marker': 'o', 'linewidth': 2, 'markersize': 12, 'linestyle': '-'}\n",
    "line3 = {'x': epsilon_values, 'y': df_laplace_delta_log_300_collected['Bayes security measure'], 'label': 'PSM-I$(r_b=50, \\delta=5)$', 'color': '#2CA02C', 'marker': 'X', 'linewidth': 2, 'markersize': 12, 'linestyle': '-'}\n",
    "line4 = {'x': epsilon_values, 'y': df_our_log_300_collected['Bayes security measure'], 'label': r'PLM$_{\\delta}\\,(\\delta=5)$', 'color': '#DC143C', 'marker': '*', 'linewidth': 2, 'markersize': 12, 'linestyle': '-'}\n",
    "\n",
    "plt.figure(figsize=(10, 6))\n",
    "\n",
    "# Plot each line with improved settings\n",
    "for line in [line1, line2, line3, line4]:\n",
    "    plt.plot(line['x'], line['y'], label=line['label'], color=line['color'], marker=line['marker'], linestyle=line['linestyle'], linewidth=line['linewidth'], markersize=line['markersize'])\n",
    "\n",
    "# Labels for axes\n",
    "plt.xlabel('$\\epsilon$', fontsize=36)\n",
    "plt.ylabel('Bayes Risk', fontsize=28)\n",
    "\n",
    "# Log scale for x-axis and setting specific ticks and labels\n",
    "plt.xscale('log')\n",
    "plt.xticks(epsilon_values, labels=[str(val) for val in epsilon_values])\n",
    "plt.tick_params(axis='both', which='major', labelsize=28)\n",
    "\n",
    "# Adding a grid, legend, and ensuring layout is tight for best appearance\n",
    "#plt.grid(True)\n",
    "plt.legend(fontsize=28, frameon=True, loc='best')\n",
    "plt.tight_layout()\n",
    "plt.title('Collected 300 (log 10)')\n",
    "# Uncomment the following lines to save the plot if needed\n",
    "# plt.savefig('/path/to/your/directory/filename.png', dpi=300, bbox_inches='tight')\n",
    "# plt.savefig('/path/to/your/directory/filename.svg', format='svg', bbox_inches='tight')\n",
    "\n",
    "# Display the plot\n",
    "plt.show()\n"
   ]
  },
  {
   "cell_type": "code",
   "execution_count": null,
   "id": "beaedfaa-747e-491a-babd-11f37ea4261b",
   "metadata": {},
   "outputs": [],
   "source": [
    "\n",
    "# Example data (assuming you have these data frames ready)\n",
    "epsilon_values = [0.1, 0.2, 0.5, 1, 2, 3, 4, 5]\n",
    "\n",
    "# Define lines with linestyle added\n",
    "line1 = {'x': epsilon_values, 'y': df_laplace_ln_200_collected['Bayes security measure'], 'label': r'PLM', 'color': '#1F77B4', 'marker': 'D', 'linewidth': 2, 'markersize': 12, 'linestyle': '-'}\n",
    "line2 = {'x': epsilon_values, 'y': df_staircase_ln_200_collected['Bayes security measure'], 'label': 'PSM', 'color': '#FF7F0E', 'marker': 'o', 'linewidth': 2, 'markersize': 12, 'linestyle': '-'}\n",
    "line3 = {'x': epsilon_values, 'y': df_our_ln_200_collected['Bayes security measure'], 'label': 'PSM-I$(r_b=50, \\delta=5)$', 'color': '#2CA02C', 'marker': 'X', 'linewidth': 2, 'markersize': 12, 'linestyle': '-'}\n",
    "line4 = {'x': epsilon_values, 'y': df_laplace_delta_ln_200_collected['Bayes security measure'], 'label': r'PLM$_{\\delta}\\,(\\delta=5)$', 'color': '#DC143C', 'marker': '*', 'linewidth': 2, 'markersize': 12, 'linestyle': '-'}\n",
    "\n",
    "plt.figure(figsize=(10, 6))\n",
    "\n",
    "# Plot each line with improved settings\n",
    "for line in [line1, line2, line3, line4]:\n",
    "    plt.plot(line['x'], line['y'], label=line['label'], color=line['color'], marker=line['marker'], linestyle=line['linestyle'], linewidth=line['linewidth'], markersize=line['markersize'])\n",
    "\n",
    "# Labels for axes\n",
    "plt.xlabel('$\\epsilon$', fontsize=36)\n",
    "plt.ylabel('Bayes Risk', fontsize=28)\n",
    "\n",
    "# Log scale for x-axis and setting specific ticks and labels\n",
    "plt.xscale('log')\n",
    "plt.xticks(epsilon_values, labels=[str(val) for val in epsilon_values])\n",
    "plt.tick_params(axis='both', which='major', labelsize=28)\n",
    "\n",
    "# Adding a grid, legend, and ensuring layout is tight for best appearance\n",
    "#plt.grid(True)\n",
    "plt.legend(fontsize=28, frameon=True, loc='best')\n",
    "plt.tight_layout()\n",
    "plt.title('Collected 200 (ln)')\n",
    "# Uncomment the following lines to save the plot if needed\n",
    "# plt.savefig('/path/to/your/directory/filename.png', dpi=300, bbox_inches='tight')\n",
    "# plt.savefig('/path/to/your/directory/filename.svg', format='svg', bbox_inches='tight')\n",
    "\n",
    "# Display the plot\n",
    "plt.show()\n"
   ]
  },
  {
   "cell_type": "code",
   "execution_count": null,
   "id": "d3e86680-58a6-40dc-8aa2-b83f20a3b039",
   "metadata": {},
   "outputs": [],
   "source": [
    "\n",
    "# Example data (assuming you have these data frames ready)\n",
    "epsilon_values = [0.1, 0.2, 0.5, 1, 2, 3, 4, 5]\n",
    "\n",
    "# Define lines with linestyle added\n",
    "line1 = {'x': epsilon_values, 'y': df_laplace_log_200_collected['Bayes security measure'], 'label': r'PLM', 'color': '#1F77B4', 'marker': 'D', 'linewidth': 2, 'markersize': 12, 'linestyle': '-'}\n",
    "line2 = {'x': epsilon_values, 'y': df_staircase_log_200_collected['Bayes security measure'], 'label': 'PSM', 'color': '#FF7F0E', 'marker': 'o', 'linewidth': 2, 'markersize': 12, 'linestyle': '-'}\n",
    "line3 = {'x': epsilon_values, 'y': df_laplace_delta_log_200_collected['Bayes security measure'], 'label': 'PSM-I$(r_b=50, \\delta=5)$', 'color': '#2CA02C', 'marker': 'X', 'linewidth': 2, 'markersize': 12, 'linestyle': '-'}\n",
    "line4 = {'x': epsilon_values, 'y': df_our_log_200_collected['Bayes security measure'], 'label': r'PLM$_{\\delta}\\,(\\delta=5)$', 'color': '#DC143C', 'marker': '*', 'linewidth': 2, 'markersize': 12, 'linestyle': '-'}\n",
    "\n",
    "plt.figure(figsize=(10, 6))\n",
    "\n",
    "# Plot each line with improved settings\n",
    "for line in [line1, line2, line3, line4]:\n",
    "    plt.plot(line['x'], line['y'], label=line['label'], color=line['color'], marker=line['marker'], linestyle=line['linestyle'], linewidth=line['linewidth'], markersize=line['markersize'])\n",
    "\n",
    "# Labels for axes\n",
    "plt.xlabel('$\\epsilon$', fontsize=36)\n",
    "plt.ylabel('Bayes Risk', fontsize=28)\n",
    "\n",
    "# Log scale for x-axis and setting specific ticks and labels\n",
    "plt.xscale('log')\n",
    "plt.xticks(epsilon_values, labels=[str(val) for val in epsilon_values])\n",
    "plt.tick_params(axis='both', which='major', labelsize=28)\n",
    "\n",
    "# Adding a grid, legend, and ensuring layout is tight for best appearance\n",
    "#plt.grid(True)\n",
    "plt.legend(fontsize=28, frameon=True, loc='best')\n",
    "plt.tight_layout()\n",
    "plt.title('Collected 200 (log 10)')\n",
    "# Uncomment the following lines to save the plot if needed\n",
    "# plt.savefig('/path/to/your/directory/filename.png', dpi=300, bbox_inches='tight')\n",
    "# plt.savefig('/path/to/your/directory/filename.svg', format='svg', bbox_inches='tight')\n",
    "\n",
    "# Display the plot\n",
    "plt.show()\n"
   ]
  },
  {
   "cell_type": "code",
   "execution_count": null,
   "id": "d1e5babe-235d-43c7-88b0-0b39b7f5a8d0",
   "metadata": {},
   "outputs": [],
   "source": [
    "\n",
    "\n",
    "# Example data (assuming you have these data frames ready)\n",
    "epsilon_values = [0.1, 0.2, 0.5, 1, 2, 3, 4, 5]\n",
    "\n",
    "# Define lines with linestyle added\n",
    "line1 = {'x': epsilon_values, 'y': df_laplace_ln_100_collected['Bayes security measure'], 'label': r'PLM', 'color': '#1F77B4', 'marker': 'D', 'linewidth': 2, 'markersize': 12, 'linestyle': '-'}\n",
    "line2 = {'x': epsilon_values, 'y': df_staircase_ln_100_collected['Bayes security measure'], 'label': 'PSM', 'color': '#FF7F0E', 'marker': 'o', 'linewidth': 2, 'markersize': 12, 'linestyle': '-'}\n",
    "line3 = {'x': epsilon_values, 'y': df_our_ln_100_collected['Bayes security measure'], 'label': 'PSM-I$(r_b=50, \\delta=5)$', 'color': '#2CA02C', 'marker': 'X', 'linewidth': 2, 'markersize': 12, 'linestyle': '-'}\n",
    "line4 = {'x': epsilon_values, 'y': df_laplace_delta_ln_100_collected['Bayes security measure'], 'label': r'PLM$_{\\delta}\\,(\\delta=5)$', 'color': '#DC143C', 'marker': '*', 'linewidth': 2, 'markersize': 12, 'linestyle': '-'}\n",
    "\n",
    "plt.figure(figsize=(10, 6))\n",
    "\n",
    "# Plot each line with improved settings\n",
    "for line in [line1, line2, line3, line4]:\n",
    "    plt.plot(line['x'], line['y'], label=line['label'], color=line['color'], marker=line['marker'], linestyle=line['linestyle'], linewidth=line['linewidth'], markersize=line['markersize'])\n",
    "\n",
    "# Labels for axes\n",
    "plt.xlabel('$\\epsilon$', fontsize=36)\n",
    "plt.ylabel('Bayes Risk', fontsize=28)\n",
    "\n",
    "# Log scale for x-axis and setting specific ticks and labels\n",
    "plt.xscale('log')\n",
    "plt.xticks(epsilon_values, labels=[str(val) for val in epsilon_values])\n",
    "plt.tick_params(axis='both', which='major', labelsize=28)\n",
    "\n",
    "# Adding a grid, legend, and ensuring layout is tight for best appearance\n",
    "#plt.grid(True)\n",
    "plt.legend(fontsize=28, frameon=True, loc='best')\n",
    "plt.tight_layout()\n",
    "plt.title('Collected 100 (ln)')\n",
    "# Uncomment the following lines to save the plot if needed\n",
    "# plt.savefig('/path/to/your/directory/filename.png', dpi=300, bbox_inches='tight')\n",
    "# plt.savefig('/path/to/your/directory/filename.svg', format='svg', bbox_inches='tight')\n",
    "\n",
    "# Display the plot\n",
    "plt.show()\n"
   ]
  },
  {
   "cell_type": "code",
   "execution_count": null,
   "id": "e85e0cd3-9eeb-4a95-bfcf-e1b6c03cbd55",
   "metadata": {
    "scrolled": true
   },
   "outputs": [],
   "source": [
    "\n",
    "# Example data (assuming you have these data frames ready)\n",
    "epsilon_values = [0.1, 0.2, 0.5, 1, 2, 3, 4, 5]\n",
    "\n",
    "# Define lines with linestyle added\n",
    "line1 = {'x': epsilon_values, 'y': df_laplace_log_100_collected['Bayes security measure'], 'label': r'PLM', 'color': '#1F77B4', 'marker': 'D', 'linewidth': 2, 'markersize': 12, 'linestyle': '-'}\n",
    "line2 = {'x': epsilon_values, 'y': df_staircase_log_100_collected['Bayes security measure'], 'label': 'PSM', 'color': '#FF7F0E', 'marker': 'o', 'linewidth': 2, 'markersize': 12, 'linestyle': '-'}\n",
    "line3 = {'x': epsilon_values, 'y': df_laplace_delta_log_100_collected['Bayes security measure'], 'label': 'PSM-I$(r_b=50, \\delta=5)$', 'color': '#2CA02C', 'marker': 'X', 'linewidth': 2, 'markersize': 12, 'linestyle': '-'}\n",
    "line4 = {'x': epsilon_values, 'y': df_our_log_100_collected['Bayes security measure'], 'label': r'PLM$_{\\delta}\\,(\\delta=5)$', 'color': '#DC143C', 'marker': '*', 'linewidth': 2, 'markersize': 12, 'linestyle': '-'}\n",
    "\n",
    "plt.figure(figsize=(10, 6))\n",
    "\n",
    "# Plot each line with improved settings\n",
    "for line in [line1, line2, line3, line4]:\n",
    "    plt.plot(line['x'], line['y'], label=line['label'], color=line['color'], marker=line['marker'], linestyle=line['linestyle'], linewidth=line['linewidth'], markersize=line['markersize'])\n",
    "\n",
    "# Labels for axes\n",
    "plt.xlabel('$\\epsilon$', fontsize=36)\n",
    "plt.ylabel('Bayes Risk', fontsize=28)\n",
    "\n",
    "# Log scale for x-axis and setting specific ticks and labels\n",
    "plt.xscale('log')\n",
    "plt.xticks(epsilon_values, labels=[str(val) for val in epsilon_values])\n",
    "plt.tick_params(axis='both', which='major', labelsize=28)\n",
    "\n",
    "# Adding a grid, legend, and ensuring layout is tight for best appearance\n",
    "#plt.grid(True)\n",
    "plt.legend(fontsize=28, frameon=True, loc='best')\n",
    "plt.tight_layout()\n",
    "plt.title('Collected 100 (log 10)')\n",
    "# Uncomment the following lines to save the plot if needed\n",
    "# plt.savefig('/path/to/your/directory/filename.png', dpi=300, bbox_inches='tight')\n",
    "# plt.savefig('/path/to/your/directory/filename.svg', format='svg', bbox_inches='tight')\n",
    "\n",
    "# Display the plot\n",
    "plt.show()\n"
   ]
  },
  {
   "cell_type": "code",
   "execution_count": null,
   "id": "667e04d4-b382-459e-a3d1-d85c13090aee",
   "metadata": {},
   "outputs": [],
   "source": [
    "################### TRACE\n",
    "\n"
   ]
  },
  {
   "cell_type": "code",
   "execution_count": 6,
   "id": "5c018c2c-b8cc-40b9-b155-94a1a93adec2",
   "metadata": {},
   "outputs": [],
   "source": [
    "df_laplace_ln_200_10 = pd.read_csv(r'C:\\Users\\ss6365\\Desktop\\location_privacy_final\\collected\\fbleau_10\\fbleau_results_laplace_ln_200.csv')\n",
    "df_laplace_ln_200_20 = pd.read_csv(r'C:\\Users\\ss6365\\Desktop\\location_privacy_final\\collected\\fbleau_20\\fbleau_results_laplace_ln_200.csv')\n",
    "df_laplace_ln_200_30 = pd.read_csv(r'C:\\Users\\ss6365\\Desktop\\location_privacy_final\\collected\\fbleau_30\\fbleau_results_laplace_ln_200.csv')\n",
    "df_laplace_ln_200_40 = pd.read_csv(r'C:\\Users\\ss6365\\Desktop\\location_privacy_final\\collected\\fbleau_40\\fbleau_results_laplace_ln_200.csv')\n",
    "df_laplace_ln_200_50 = pd.read_csv(r'C:\\Users\\ss6365\\Desktop\\location_privacy_final\\collected\\fbleau_50\\fbleau_results_laplace_ln_200.csv')"
   ]
  },
  {
   "cell_type": "code",
   "execution_count": 7,
   "id": "f9ac4174-ed24-46a3-baa6-221a44682dfe",
   "metadata": {},
   "outputs": [
    {
     "data": {
      "text/plain": [
       "[0.246224651229685,\n",
       " 0.251044217197177,\n",
       " 0.2348114022458969,\n",
       " 0.2723275208491281,\n",
       " 0.2411895910780669]"
      ]
     },
     "execution_count": 7,
     "metadata": {},
     "output_type": "execute_result"
    }
   ],
   "source": [
    "laplace = [df_laplace_ln_200_10['Bayes security measure'].iloc[0], df_laplace_ln_200_20['Bayes security measure'].iloc[0], df_laplace_ln_200_30['Bayes security measure'].iloc[0], df_laplace_ln_200_40['Bayes security measure'].iloc[0], df_laplace_ln_200_50['Bayes security measure'].iloc[0]]\n",
    "laplace"
   ]
  },
  {
   "cell_type": "code",
   "execution_count": 8,
   "id": "ea7f6620-a024-41c6-bde4-8dc9ada20394",
   "metadata": {},
   "outputs": [],
   "source": [
    "df_staircase_ln_200_10 = pd.read_csv(r'C:\\Users\\ss6365\\Desktop\\location_privacy_final\\collected\\fbleau_10\\fbleau_results_staircase_ln_200.csv')\n",
    "df_staircase_ln_200_20 = pd.read_csv(r'C:\\Users\\ss6365\\Desktop\\location_privacy_final\\collected\\fbleau_20\\fbleau_results_staircase_ln_200.csv')\n",
    "df_staircase_ln_200_30 = pd.read_csv(r'C:\\Users\\ss6365\\Desktop\\location_privacy_final\\collected\\fbleau_30\\fbleau_results_staircase_ln_200.csv')\n",
    "df_staircase_ln_200_40 = pd.read_csv(r'C:\\Users\\ss6365\\Desktop\\location_privacy_final\\collected\\fbleau_40\\fbleau_results_staircase_ln_200.csv')\n",
    "df_staircase_ln_200_50 = pd.read_csv(r'C:\\Users\\ss6365\\Desktop\\location_privacy_final\\collected\\fbleau_50\\fbleau_results_staircase_ln_200.csv')"
   ]
  },
  {
   "cell_type": "code",
   "execution_count": 9,
   "id": "612895e4-622e-4aa1-90d2-892e98fa1189",
   "metadata": {},
   "outputs": [
    {
     "data": {
      "text/plain": [
       "[0.163958003739393,\n",
       " 0.1614575831773008,\n",
       " 0.1546213648142816,\n",
       " 0.181046247156937,\n",
       " 0.1646096654275093]"
      ]
     },
     "execution_count": 9,
     "metadata": {},
     "output_type": "execute_result"
    }
   ],
   "source": [
    "staircase = [df_staircase_ln_200_10['Bayes security measure'].iloc[0], df_staircase_ln_200_20['Bayes security measure'].iloc[0], df_staircase_ln_200_30['Bayes security measure'].iloc[0], df_staircase_ln_200_40['Bayes security measure'].iloc[0], df_staircase_ln_200_50['Bayes security measure'].iloc[0]]\n",
    "staircase"
   ]
  },
  {
   "cell_type": "code",
   "execution_count": 19,
   "id": "541a4385-4b60-422f-b194-0f105c111707",
   "metadata": {},
   "outputs": [],
   "source": [
    "df_our_ln_200_10 = pd.read_csv(r'C:\\Users\\ss6365\\Desktop\\location_privacy_final\\collected\\fbleau_10\\fbleau_results_our_bl_50_delta_5_ln_200.csv')\n",
    "df_our_ln_200_20 = pd.read_csv(r'C:\\Users\\ss6365\\Desktop\\location_privacy_final\\collected\\fbleau_20\\fbleau_results_our_bl_50_delta_5_ln_200.csv')\n",
    "df_our_ln_200_30 = pd.read_csv(r'C:\\Users\\ss6365\\Desktop\\location_privacy_final\\collected\\fbleau_30\\fbleau_results_our_bl_50_delta_5_ln_200.csv')\n",
    "df_our_ln_200_40 = pd.read_csv(r'C:\\Users\\ss6365\\Desktop\\location_privacy_final\\collected\\fbleau_40\\fbleau_results_our_bl_50_delta_5_ln_200.csv')\n",
    "df_our_ln_200_50 = pd.read_csv(r'C:\\Users\\ss6365\\Desktop\\location_privacy_final\\collected\\fbleau_50\\fbleau_results_our_bl_50_delta_5_ln_200.csv')"
   ]
  },
  {
   "cell_type": "code",
   "execution_count": 20,
   "id": "677afda0-a217-4327-8dc8-bf7d01bcf105",
   "metadata": {},
   "outputs": [
    {
     "data": {
      "text/plain": [
       "[0.3489141377822523,\n",
       " 0.3321330836814057,\n",
       " 0.3098186006334581,\n",
       " 0.3463229719484457,\n",
       " 0.2847583643122676]"
      ]
     },
     "execution_count": 20,
     "metadata": {},
     "output_type": "execute_result"
    }
   ],
   "source": [
    "our = [df_our_ln_200_10['Bayes security measure'].iloc[0], df_our_ln_200_20['Bayes security measure'].iloc[0], df_our_ln_200_30['Bayes security measure'].iloc[0], df_our_ln_200_40['Bayes security measure'].iloc[0], df_our_ln_200_50['Bayes security measure'].iloc[0]]\n",
    "our"
   ]
  },
  {
   "cell_type": "code",
   "execution_count": 10,
   "id": "036562a6-c870-4a91-a48c-96e0f0e29f38",
   "metadata": {},
   "outputs": [
    {
     "ename": "NameError",
     "evalue": "name 'our' is not defined",
     "output_type": "error",
     "traceback": [
      "\u001b[1;31m---------------------------------------------------------------------------\u001b[0m",
      "\u001b[1;31mNameError\u001b[0m                                 Traceback (most recent call last)",
      "Cell \u001b[1;32mIn[10], line 7\u001b[0m\n\u001b[0;32m      5\u001b[0m line1 \u001b[38;5;241m=\u001b[39m {\u001b[38;5;124m'\u001b[39m\u001b[38;5;124mx\u001b[39m\u001b[38;5;124m'\u001b[39m: epsilon_values, \u001b[38;5;124m'\u001b[39m\u001b[38;5;124my\u001b[39m\u001b[38;5;124m'\u001b[39m: laplace, \u001b[38;5;124m'\u001b[39m\u001b[38;5;124mlabel\u001b[39m\u001b[38;5;124m'\u001b[39m: \u001b[38;5;124mr\u001b[39m\u001b[38;5;124m'\u001b[39m\u001b[38;5;124mPLM\u001b[39m\u001b[38;5;124m'\u001b[39m, \u001b[38;5;124m'\u001b[39m\u001b[38;5;124mcolor\u001b[39m\u001b[38;5;124m'\u001b[39m: \u001b[38;5;124m'\u001b[39m\u001b[38;5;124m#1F77B4\u001b[39m\u001b[38;5;124m'\u001b[39m, \u001b[38;5;124m'\u001b[39m\u001b[38;5;124mmarker\u001b[39m\u001b[38;5;124m'\u001b[39m: \u001b[38;5;124m'\u001b[39m\u001b[38;5;124mD\u001b[39m\u001b[38;5;124m'\u001b[39m, \u001b[38;5;124m'\u001b[39m\u001b[38;5;124mlinewidth\u001b[39m\u001b[38;5;124m'\u001b[39m: \u001b[38;5;241m2\u001b[39m, \u001b[38;5;124m'\u001b[39m\u001b[38;5;124mmarkersize\u001b[39m\u001b[38;5;124m'\u001b[39m: \u001b[38;5;241m12\u001b[39m, \u001b[38;5;124m'\u001b[39m\u001b[38;5;124mlinestyle\u001b[39m\u001b[38;5;124m'\u001b[39m: \u001b[38;5;124m'\u001b[39m\u001b[38;5;124m-\u001b[39m\u001b[38;5;124m'\u001b[39m}\n\u001b[0;32m      6\u001b[0m line2 \u001b[38;5;241m=\u001b[39m {\u001b[38;5;124m'\u001b[39m\u001b[38;5;124mx\u001b[39m\u001b[38;5;124m'\u001b[39m: epsilon_values, \u001b[38;5;124m'\u001b[39m\u001b[38;5;124my\u001b[39m\u001b[38;5;124m'\u001b[39m: staircase, \u001b[38;5;124m'\u001b[39m\u001b[38;5;124mlabel\u001b[39m\u001b[38;5;124m'\u001b[39m: \u001b[38;5;124m'\u001b[39m\u001b[38;5;124mPSM\u001b[39m\u001b[38;5;124m'\u001b[39m, \u001b[38;5;124m'\u001b[39m\u001b[38;5;124mcolor\u001b[39m\u001b[38;5;124m'\u001b[39m: \u001b[38;5;124m'\u001b[39m\u001b[38;5;124m#FF7F0E\u001b[39m\u001b[38;5;124m'\u001b[39m, \u001b[38;5;124m'\u001b[39m\u001b[38;5;124mmarker\u001b[39m\u001b[38;5;124m'\u001b[39m: \u001b[38;5;124m'\u001b[39m\u001b[38;5;124mo\u001b[39m\u001b[38;5;124m'\u001b[39m, \u001b[38;5;124m'\u001b[39m\u001b[38;5;124mlinewidth\u001b[39m\u001b[38;5;124m'\u001b[39m: \u001b[38;5;241m2\u001b[39m, \u001b[38;5;124m'\u001b[39m\u001b[38;5;124mmarkersize\u001b[39m\u001b[38;5;124m'\u001b[39m: \u001b[38;5;241m12\u001b[39m, \u001b[38;5;124m'\u001b[39m\u001b[38;5;124mlinestyle\u001b[39m\u001b[38;5;124m'\u001b[39m: \u001b[38;5;124m'\u001b[39m\u001b[38;5;124m-\u001b[39m\u001b[38;5;124m'\u001b[39m}\n\u001b[1;32m----> 7\u001b[0m line3 \u001b[38;5;241m=\u001b[39m {\u001b[38;5;124m'\u001b[39m\u001b[38;5;124mx\u001b[39m\u001b[38;5;124m'\u001b[39m: epsilon_values, \u001b[38;5;124m'\u001b[39m\u001b[38;5;124my\u001b[39m\u001b[38;5;124m'\u001b[39m: \u001b[43mour\u001b[49m, \u001b[38;5;124m'\u001b[39m\u001b[38;5;124mlabel\u001b[39m\u001b[38;5;124m'\u001b[39m: \u001b[38;5;124m'\u001b[39m\u001b[38;5;124mPSM-I$(r_b=50, \u001b[39m\u001b[38;5;124m\\\u001b[39m\u001b[38;5;124mdelta=5)$\u001b[39m\u001b[38;5;124m'\u001b[39m, \u001b[38;5;124m'\u001b[39m\u001b[38;5;124mcolor\u001b[39m\u001b[38;5;124m'\u001b[39m: \u001b[38;5;124m'\u001b[39m\u001b[38;5;124m#2CA02C\u001b[39m\u001b[38;5;124m'\u001b[39m, \u001b[38;5;124m'\u001b[39m\u001b[38;5;124mmarker\u001b[39m\u001b[38;5;124m'\u001b[39m: \u001b[38;5;124m'\u001b[39m\u001b[38;5;124mX\u001b[39m\u001b[38;5;124m'\u001b[39m, \u001b[38;5;124m'\u001b[39m\u001b[38;5;124mlinewidth\u001b[39m\u001b[38;5;124m'\u001b[39m: \u001b[38;5;241m2\u001b[39m, \u001b[38;5;124m'\u001b[39m\u001b[38;5;124mmarkersize\u001b[39m\u001b[38;5;124m'\u001b[39m: \u001b[38;5;241m12\u001b[39m, \u001b[38;5;124m'\u001b[39m\u001b[38;5;124mlinestyle\u001b[39m\u001b[38;5;124m'\u001b[39m: \u001b[38;5;124m'\u001b[39m\u001b[38;5;124m-\u001b[39m\u001b[38;5;124m'\u001b[39m}\n\u001b[0;32m      8\u001b[0m \u001b[38;5;66;03m#line4 = {'x': epsilon_values, 'y': df_our_log_100_collected['Bayes security measure'], 'label': r'PLM$_{\\delta}\\,(\\delta=5)$', 'color': '#DC143C', 'marker': '*', 'linewidth': 2, 'markersize': 12, 'linestyle': '-'}\u001b[39;00m\n\u001b[0;32m     10\u001b[0m plt\u001b[38;5;241m.\u001b[39mfigure(figsize\u001b[38;5;241m=\u001b[39m(\u001b[38;5;241m10\u001b[39m, \u001b[38;5;241m6\u001b[39m))\n",
      "\u001b[1;31mNameError\u001b[0m: name 'our' is not defined"
     ]
    }
   ],
   "source": [
    "# Example data (assuming you have these data frames ready)\n",
    "epsilon_values = [10, 20, 30, 40,50]\n",
    "\n",
    "# Define lines with linestyle added\n",
    "line1 = {'x': epsilon_values, 'y': laplace, 'label': r'PLM', 'color': '#1F77B4', 'marker': 'D', 'linewidth': 2, 'markersize': 12, 'linestyle': '-'}\n",
    "line2 = {'x': epsilon_values, 'y': staircase, 'label': 'PSM', 'color': '#FF7F0E', 'marker': 'o', 'linewidth': 2, 'markersize': 12, 'linestyle': '-'}\n",
    "line3 = {'x': epsilon_values, 'y': our, 'label': 'PSM-I$(r_b=50, \\delta=5)$', 'color': '#2CA02C', 'marker': 'X', 'linewidth': 2, 'markersize': 12, 'linestyle': '-'}\n",
    "#line4 = {'x': epsilon_values, 'y': df_our_log_100_collected['Bayes security measure'], 'label': r'PLM$_{\\delta}\\,(\\delta=5)$', 'color': '#DC143C', 'marker': '*', 'linewidth': 2, 'markersize': 12, 'linestyle': '-'}\n",
    "\n",
    "plt.figure(figsize=(10, 6))\n",
    "\n",
    "# Plot each line with improved settings\n",
    "for line in [line1, line2, line3]:\n",
    "    plt.plot(line['x'], line['y'], label=line['label'], color=line['color'], marker=line['marker'], linestyle=line['linestyle'], linewidth=line['linewidth'], markersize=line['markersize'])\n",
    "\n",
    "# Labels for axes\n",
    "plt.xlabel('$Trajectory Length$', fontsize=36)\n",
    "plt.ylabel('Bayes Risk', fontsize=28)\n",
    "\n",
    "# Log scale for x-axis and setting specific ticks and labels\n",
    "plt.scale('log')\n",
    "plt.xticks(epsilon_values, labels=[str(val) for val in epsilon_values])\n",
    "plt.tick_params(axis='both', which='major', labelsize=28)\n",
    "\n",
    "# Adding a grid, legend, and ensuring layout is tight for best appearance\n",
    "#plt.grid(True)\n",
    "plt.legend(fontsize=28, frameon=True, loc='best')\n",
    "plt.tight_layout()\n",
    "#plt.title('Collected 100 (log 10)')\n",
    "# Uncomment the following lines to save the plot if needed\n",
    "# plt.savefig('/path/to/your/directory/filename.png', dpi=300, bbox_inches='tight')\n",
    "# plt.savefig('/path/to/your/directory/filename.svg', format='svg', bbox_inches='tight')\n",
    "\n",
    "# Display the plot\n",
    "plt.show()\n"
   ]
  },
  {
   "cell_type": "code",
   "execution_count": null,
   "id": "54b40073-2f4a-40e0-abf2-d127d4fdff55",
   "metadata": {},
   "outputs": [],
   "source": [
    "df_laplace_ln_200_collected = pd.read_csv(r'C:\\Users\\ss6365\\Desktop\\location_privacy_final\\collected\\fbleau\\fbleau_results_laplace_collected_ln_200.csv')\n",
    "df_staircase_ln_200_collected = pd.read_csv(r'C:\\Users\\ss6365\\Desktop\\location_privacy_final\\collected\\fbleau\\fbleau_results_staircase_collected_ln_200.csv')\n",
    "df_our_ln_200_collected = pd.read_csv(r'C:\\Users\\ss6365\\Desktop\\location_privacy_final\\collected\\fbleau\\fbleau_results_our_bl_50_delta_5_collected_ln_200.csv')\n"
   ]
  },
  {
   "cell_type": "code",
   "execution_count": null,
   "id": "64006627-770f-4dc4-a325-98eae21c4fec",
   "metadata": {},
   "outputs": [],
   "source": [
    "df_laplace_ln_200_collected['Multiplicative Leakage'].loc[0]"
   ]
  },
  {
   "cell_type": "code",
   "execution_count": null,
   "id": "e12d31ee-bf46-4a21-a9ef-f1c25ef7df23",
   "metadata": {},
   "outputs": [],
   "source": [
    "df_laplace_ln_200_collected['Additive Leakage']"
   ]
  },
  {
   "cell_type": "code",
   "execution_count": null,
   "id": "6797e859-1814-4c51-874a-52af9f44ccec",
   "metadata": {},
   "outputs": [],
   "source": [
    "df_staircase_ln_200_collected['Multiplicative Leakage']"
   ]
  },
  {
   "cell_type": "code",
   "execution_count": null,
   "id": "6db2babd-1161-43b0-8b24-b36154ef497d",
   "metadata": {},
   "outputs": [],
   "source": [
    "df_staircase_ln_200_collected['Additive Leakage']"
   ]
  },
  {
   "cell_type": "code",
   "execution_count": null,
   "id": "023caab9-72ee-4655-8269-f5a3f3b94037",
   "metadata": {},
   "outputs": [],
   "source": [
    "df_our_ln_200_collected['Multiplicative Leakage']"
   ]
  },
  {
   "cell_type": "code",
   "execution_count": null,
   "id": "6fef8cb2-1344-4584-a8a0-c87a9d2c3dd3",
   "metadata": {},
   "outputs": [],
   "source": [
    "df_our_ln_200_collected['Additive Leakage']"
   ]
  },
  {
   "cell_type": "code",
   "execution_count": null,
   "id": "df590917-27bb-495d-a2a3-46ef332730c9",
   "metadata": {},
   "outputs": [],
   "source": [
    "df_laplace_ln_200_collected = pd.read_csv(r'C:\\Users\\ss6365\\Desktop\\location_privacy_final\\uci\\fbleau\\fbleau_results_laplace_uci_ln_200.csv')\n",
    "df_staircase_ln_200_collected = pd.read_csv(r'C:\\Users\\ss6365\\Desktop\\location_privacy_final\\uci\\fbleau\\fbleau_results_staircase_uci_ln_200.csv')\n",
    "df_our_ln_200_collected = pd.read_csv(r'C:\\Users\\ss6365\\Desktop\\location_privacy_final\\uci\\fbleau\\fbleau_results_our_bl_50_delta_5_uci_ln_200.csv')"
   ]
  },
  {
   "cell_type": "code",
   "execution_count": null,
   "id": "9ea935ed-a9f6-4503-963d-c50c802f9423",
   "metadata": {},
   "outputs": [],
   "source": [
    "df_laplace_ln_200_collected['Multiplicative Leakage']"
   ]
  },
  {
   "cell_type": "code",
   "execution_count": null,
   "id": "786bf637-796c-48af-8d4a-a658c7e3d0f7",
   "metadata": {},
   "outputs": [],
   "source": [
    "df_staircase_ln_200_collected['Multiplicative Leakage']"
   ]
  },
  {
   "cell_type": "code",
   "execution_count": null,
   "id": "b34fa818-451e-449e-9321-9d73f4c1b362",
   "metadata": {},
   "outputs": [],
   "source": [
    "df_our_ln_200_collected['Multiplicative Leakage']"
   ]
  },
  {
   "cell_type": "code",
   "execution_count": null,
   "id": "4acd51bc-bbd1-4141-a0af-bf45c80b40f8",
   "metadata": {},
   "outputs": [],
   "source": [
    "df_laplace_ln_200_collected['Additive Leakage']"
   ]
  },
  {
   "cell_type": "code",
   "execution_count": null,
   "id": "ae85d670-027b-4756-84c2-5cbd86125ddc",
   "metadata": {},
   "outputs": [],
   "source": [
    "df_staircase_ln_200_collected['Additive Leakage']"
   ]
  },
  {
   "cell_type": "code",
   "execution_count": null,
   "id": "f84658eb-6248-444a-9331-1246036d6d52",
   "metadata": {},
   "outputs": [],
   "source": [
    "df_our_ln_200_collected['Additive Leakage']"
   ]
  },
  {
   "cell_type": "code",
   "execution_count": null,
   "id": "c212dd74-cb7d-449e-be0f-002d8d4d7f92",
   "metadata": {},
   "outputs": [],
   "source": []
  }
 ],
 "metadata": {
  "kernelspec": {
   "display_name": "Python 3 (ipykernel)",
   "language": "python",
   "name": "python3"
  },
  "language_info": {
   "codemirror_mode": {
    "name": "ipython",
    "version": 3
   },
   "file_extension": ".py",
   "mimetype": "text/x-python",
   "name": "python",
   "nbconvert_exporter": "python",
   "pygments_lexer": "ipython3",
   "version": "3.10.13"
  }
 },
 "nbformat": 4,
 "nbformat_minor": 5
}
